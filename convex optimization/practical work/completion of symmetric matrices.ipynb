{
 "cells": [
  {
   "cell_type": "markdown",
   "metadata": {
    "slideshow": {
     "slide_type": "slide"
    }
   },
   "source": [
    "## Complétion de matrices symétriques semi-définie positive\n"
   ]
  },
  {
   "cell_type": "markdown",
   "metadata": {
    "slideshow": {
     "slide_type": "subslide"
    }
   },
   "source": [
    "Soient $A\\in \\mathcal{S}_n(\\mathbb{R})$ semi-définie positive. On suppose ne connaitre qu'un certain nombre d'entrées de cette matrice : $\\forall (i,j)\\in\\Omega, \\quad A_{i,j} $ est connu.\n",
    "\n",
    "On cherche à trouver les données manquantes (complétion de matrice). On modélise ce problème par \n",
    "\n",
    "$$\\hspace{5cm} (\\mathcal{E})\\quad \\text{ Trouver }\\delta \\in \\mathcal{S}_n^+(\\mathbb{R})  \\text{t.q.}  \\forall (i,j)\\in\\Omega, \\quad \\delta_{i,j}=A_{i,j}.$$\n",
    "\n",
    "On cherche ainsi  $$\\delta \\in \\mathcal{C}=\\mathcal{C}_1\\bigcap\\mathcal{C}_2,$$ avec $$\\mathcal{C}_1=\\mathcal{S}_n^+(\\mathbb{R}), \\quad \\mathcal{C}_2=\\left\\{\\delta \\in \\mathcal{M}_n(\\mathbb{R}) \\text{ t.q. } \\forall (i,j)\\in\\Omega,  \\delta_{i,j}=A_{i,j}\\right\\}.$$ \n",
    "\n",
    "**Question 1 :** Justifier que ces deux parties sont convexes, fermées et non vides.\n"
   ]
  },
  {
   "cell_type": "markdown",
   "metadata": {
    "slideshow": {
     "slide_type": "subslide"
    }
   },
   "source": [
    "On définit pour cela le problème d'optimisation suivant : \n",
    "$$\\hspace{5cm} (\\mathcal{P})\\quad \\min_{\\delta \\in \\mathcal{M}_n(\\mathbb{R})} f(\\delta)=\\max(d(\\delta,\\mathcal{C}_1),d(\\delta,\\mathcal{C}_2))$$\n",
    "\n",
    "avec $d(\\delta,\\mathcal{C}_i)$ la distance de $\\delta$ à $\\mathcal{C}_i$.\n",
    "\n",
    "**Question 2 :** On choisit de munir $\\mathcal{M}_n(\\mathbb{R})$ du produit scalaire $<X,Y>=tr(XY^T)$. On a alors $d(\\delta,\\mathcal{C}_i)=\\Vert \\delta - \\Pi_{\\mathcal{C}_i}(\\delta)\\Vert_F$, avec $\\Vert \\Vert_F$ la norme de Frobenius, et $\\Pi_{\\mathcal{C}_i}(\\delta)$ le projeté de $\\delta$ sur $\\mathcal{C}_i$. Donner l'expression analytique des $\\Pi_{\\mathcal{C}_i}(\\delta)$.\n",
    "\n",
    "**Question 3 :** Proposer un sous-gradient de $f$ en $\\delta$.\n",
    "\n",
    "**Qestion 4 :** Résoudre le problème $ (\\mathcal{E})$ par l'algorithme du sous-gradient.\n"
   ]
  },
  {
   "cell_type": "code",
   "execution_count": null,
   "metadata": {},
   "outputs": [],
   "source": [
    "using LinearAlgebra, Random, Plots\n",
    "\n",
    "n=10\n",
    "nd=3\n",
    "\n",
    "#Construction de la matrice A\n",
    "tmp=randn(n,2*n)\n",
    "F=qr(tmp)\n",
    "P=F.Q[1:n,1:n]\n",
    "d=abs.(10*randn(n,))\n",
    "A=P*Diagonal(d)*transpose(P)\n",
    "\n",
    "#Indice des entrées connues\n",
    "Oi=randperm(n)[1:min(nd,n)]\n",
    "\n",
    "println(Oi)\n",
    "x = randn(n);\n",
    "b = A*x"
   ]
  },
  {
   "cell_type": "code",
   "execution_count": null,
   "metadata": {},
   "outputs": [],
   "source": [
    "function π1(Δ)\n",
    "    eigs, P = eigen(Δ)\n",
    "    eigs = real(eigs)\n",
    "    eigs = [max(0,lambda) for lambda in eigs]\n",
    "    return P * diagm(eigs) * transpose(P)\n",
    "end\n",
    "\n",
    "function π2(Δ, A, Oi, Oj)\n",
    "    result = copy(Δ)\n",
    "    for i in Oi\n",
    "        for j in Oj\n",
    "            result[i, j] = A[i, j]\n",
    "        end\n",
    "    end\n",
    "    return result\n",
    "end\n",
    "\n",
    "function evalf(Δ,A,Oi,Oj)\n",
    "    d1 = norm(Δ-π1(Δ)); # with p=2, for a matrix, computes Frobenius norm\n",
    "    d2 = norm(Δ-π2(Δ,A,Oi,Oj));\n",
    "    return max(d1,d2);\n",
    "end\n",
    "\n",
    "# Return one subgradient of f at Δ\n",
    "function subgradf(Δ,A,Oi,Oj)\n",
    "    eval1 = Δ-π1(Δ);\n",
    "    eval2 = Δ-π2(Δ,A,Oi,Oj);\n",
    "    d1 = norm(eval1);\n",
    "    d2 = norm(eval2);\n",
    "    \n",
    "    if(max(d1,d2)==d1)\n",
    "        g = eval1/d1;\n",
    "    else\n",
    "        g = eval2/d2;\n",
    "    end\n",
    "       \n",
    "    return g;\n",
    "end"
   ]
  },
  {
   "cell_type": "code",
   "execution_count": null,
   "metadata": {},
   "outputs": [],
   "source": [
    "#Pkg.add(\"Plots\")\n",
    "using Plots\n",
    "\n",
    "# Initialisation\n",
    "Δ = zeros(n,n);\n",
    "Δ_best = Δ;\n",
    "i = 0;\n",
    "fbest = 1000000;\n",
    "histo_subgradient_simple =[];\n",
    "\n",
    "lambda=1e-2;\n",
    "\n",
    "pas=4;\n",
    "itermax_subgradient_simple=50;\n",
    "\n",
    "Δ_k = Δ;\n",
    "while i < itermax_subgradient_simple\n",
    "    i = i + 1;\n",
    "    gk = subgradf(Δ_k, b, x_tilde);\n",
    "    #print(norm(gk,2),\"\\n\")\n",
    "    \n",
    "    if pas == 1\n",
    "        Δ_k -= 1e-2*gk;\n",
    "    elseif pas == 2\n",
    "        Δ_k -= 1/(100i) * gk;\n",
    "    elseif pas == 3\n",
    "        Δ_k -= 1/(norm(gk,2)*sqrt(i)) * gk;\n",
    "    elseif pas == 4\n",
    "        #print(evalf(Δ_k, b, x_tilde),\"\\n\")\n",
    "        Δ_k -= evalf(Δ_k, b, x_tilde)/norm(gk,2)^2 * gk;\n",
    "    end\n",
    "    \n",
    "    if evalf(Δ_k, b, x_tilde) < fbest\n",
    "        #print(\"hi!\\n\")\n",
    "        fbest = evalf(Δ_k, b, x_tilde);\n",
    "        Δ_best = Δ_k;\n",
    "    end\n",
    "    \n",
    "    append!(histo_subgradient_simple, fbest);\n",
    "end\n",
    "\n",
    "plotly();\n",
    "\n",
    "iter_subgradient_simple=1:itermax_subgradient_simple;\n"
   ]
  },
  {
   "cell_type": "code",
   "execution_count": null,
   "metadata": {
    "slideshow": {
     "slide_type": "slide"
    }
   },
   "outputs": [],
   "source": [
    "plot(iter_subgradient_simple,histo_subgradient_simple,title=\"Convergence curve\",label=[\"f\"],lw=3,ann=[(55,80,\"Sous-gradient simple\")])  "
   ]
  },
  {
   "cell_type": "code",
   "execution_count": null,
   "metadata": {},
   "outputs": [],
   "source": []
  }
 ],
 "metadata": {
  "anaconda-cloud": {},
  "celltoolbar": "Slideshow",
  "kernelspec": {
   "display_name": "Julia 1.6.3",
   "language": "julia",
   "name": "julia-1.6"
  },
  "language_info": {
   "file_extension": ".jl",
   "mimetype": "application/julia",
   "name": "julia",
   "version": "1.6.3"
  }
 },
 "nbformat": 4,
 "nbformat_minor": 1
}
