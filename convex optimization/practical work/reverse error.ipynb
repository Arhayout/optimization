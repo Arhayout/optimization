{
 "cells": [
  {
   "cell_type": "markdown",
   "metadata": {},
   "source": [
    "# TP Erreur inverse"
   ]
  },
  {
   "cell_type": "markdown",
   "metadata": {
    "slideshow": {
     "slide_type": "slide"
    }
   },
   "source": [
    "## Erreur inverse - Cas symétrique"
   ]
  },
  {
   "cell_type": "markdown",
   "metadata": {
    "slideshow": {
     "slide_type": "subslide"
    }
   },
   "source": [
    "Soient $A\\in \\mathcal{S}_n(\\mathbb{R})$ inversible, $b\\in\\mathbb{R}^n$ et $x\\in\\mathbb{R}^n$ solution de $$Ax=b.$$\n",
    "\n",
    "On dispose d'un algorithme permettant la résolution numérique d'un tel problème. L'exécution de celui-ci conduit à une solution numérique $\\tilde{x}$, entachée d'erreurs : $$A\\tilde{x}\\neq b. $$\n",
    "\n",
    "L'erreur inverse de cet algorithme, en norme de Frobenius, peut être obtenue depuis la solution du problème d'optimisation suivant : $$\\min_{\\Delta \\in \\mathcal{C}} \\Vert \\Delta \\Vert^2_F,$$\n",
    "\n",
    "avec $$\\mathcal{C}=\\left\\{ \\Delta \\in \\mathcal{S}_n(\\mathbb{R}) \\mbox{ t.q. } (A+\\Delta)\\tilde{x}=b\\right\\}.$$\n",
    "\n",
    "On s'intéresse à un problème plus simple qui consiste à chercher un élément de $\\mathcal{C}$, si ce dernier n'est pas vide :\n",
    "\n",
    "$$(\\mathcal{E})\\quad \\mbox{ Trouver }\\Delta \\in \\mathcal{S}_n(\\mathbb{R}) \\mbox{ t.q. } (A+\\Delta)\\tilde{x}=b.$$\n",
    "\n",
    "En écrivant $$\\mathcal{C}=\\mathcal{C}_1\\bigcap\\mathcal{C}_2,$$ avec $$\\mathcal{C}_1=\\mathcal{S}_n(\\mathbb{R}), \\quad \\mathcal{C}_2=\\left\\{\\Delta \\in \\mathcal{M}_n(\\mathbb{R}) \\mbox{ t.q. } (A+\\Delta)\\tilde{x}=b\\right\\},$$ on est amenés à chercher un élément sur l'intersection de deux convexes fermés non vides.\n",
    "\n",
    "**Question 1 :** Justifier que ces deux parties sont convexes, fermées et non vides.\n"
   ]
  },
  {
   "cell_type": "markdown",
   "metadata": {},
   "source": [
    "### Réponse\n",
    "\n",
    "Soient $\\Delta_1,\\,\\Delta_2\\in\\mathcal{C}_1$ et $\\lambda\\in[0,1]$, alors $\\left(\\lambda\\Delta_1 + (1-\\lambda)\\Delta_2\\right)_{ij} = (\\lambda\\Delta_1)_{ij} + ((1-\\lambda)\\Delta_1)_{ij} = (\\lambda\\Delta_1)_{jj} + ((1-\\lambda)\\Delta_1)_{ji} = \\left(\\lambda\\Delta_1 + (1-\\lambda)\\Delta_2\\right)_{ji}$ donc $\\lambda\\Delta_1 + (1-\\lambda)\\Delta_2 \\in \\mathcal{C}_1$ donc $\\mathcal{C}_1$ convexe. De plus l'application $\\Delta \\mapsto \\Delta - \\Delta^T$ définie sur $\\mathcal{M}_n(\\mathbb{R})$ est linéaire en dimension finie donc continue donc $f^{-1}(\\{0\\}) = \\mathcal{S}_n(\\mathbb{R}) = \\mathcal{C}_1$ est fermé. Enfin $\\mathcal{C}_1$ non vide car $0$ est dedans.\n",
    "\n",
    "De même, $\\mathcal{C}_2$ convexe, fermé comme image réciproque de $\\{0\\}$ par une application continue, et non vide par hypothèse."
   ]
  },
  {
   "cell_type": "markdown",
   "metadata": {
    "slideshow": {
     "slide_type": "subslide"
    }
   },
   "source": [
    "On définit pour cela le problème d'optimisation suivant : \n",
    "$$(\\mathcal{P})\\quad \\min_{\\Delta \\in \\mathcal{M}_n(\\mathbb{R})} f(\\Delta)=\\max(d(\\Delta,\\mathcal{C}_1),d(\\Delta,\\mathcal{C}_2))$$\n",
    "\n",
    "avec $d(\\Delta,\\mathcal{C}_i)$ la distance de $\\Delta$ à $\\mathcal{C}_i$.\n",
    "\n",
    "**Question 2 :** On choisit de munir $\\mathcal{M}_n(\\mathbb{R})$ du produit scalaire $<X,Y>=tr(XY^T)$. On a alors $d(\\Delta,\\mathcal{C}_i)=\\Vert \\Delta - \\Pi_{\\mathcal{C}_i}(\\Delta)\\Vert_F$, avec $\\Vert \\Vert_F$ la norme de Frobenius, et $\\Pi_{\\mathcal{C}_i}(\\Delta)$ le projeté de $\\Delta$ sur $\\mathcal{C}_i$. Donner l'expression analytique des $\\Pi_{\\mathcal{C}_i}(\\Delta)$."
   ]
  },
  {
   "cell_type": "markdown",
   "metadata": {},
   "source": [
    "$\\Pi_{\\mathcal{C}_1}(\\Delta) = \\displaystyle\\frac{\\Delta + \\Delta^T}{2}$. \n",
    "$$\\begin{align}\n",
    "\\Pi_{\\mathcal{C}_2}(\\Delta) &= \\underset{X\\in\\mathcal{C}_2}{\\operatorname{argmin}} \\frac 1 2 \\Vert X-\\Delta\\Vert_F^2 \\\\\n",
    "&= \\underset{X\\tilde{x}=b-A\\tilde{x}}{\\underset{X\\in\\mathcal{M}_n(\\mathbb{R})}{\\operatorname{argmin}}} \\frac 1 2 \\Vert X-\\Delta\\Vert_F^2\n",
    "\\end{align}\n",
    "$$\n",
    "\n",
    "On pose $f_2(X) = \\frac 1 2 \\Vert X-\\Delta\\Vert_F^2$ et $h(X) = X\\tilde{x}=b-A\\tilde{x}$.\n",
    "\n",
    "f est continue. L'ensemble des contraintes n'est pas forcément bornée mais f est clairement coercive => CS1 => existence d'un minimum.\n",
    "\n",
    "KKT ?\n",
    "- $f_2$, $h$ sont $C^1$\n",
    "- (HQC) vérifier que la famille $(\\nabla h_i(X))$ est libre, $i=1,...,n$\n",
    "\n",
    "$$\n",
    "\\mathcal{L}(X,\\,\\lambda) = f_2(X)+ \\lambda^Th(X)\n",
    "$$\n",
    "\n",
    "KKT => $\\exists \\lambda$ tq $\\nabla\\mathcal{L}(X, \\lambda)=0$.\n",
    "\n",
    "On trouve donc :\n",
    "$$\n",
    "\\lambda = \\displaystyle\\frac{1}{\\Vert\\tilde{x}\\Vert_2^2} \\left[\\Delta\\tilde{x}-(b-A\\tilde{x})\\right] \\in\\mathbb{R}^n\n",
    "$$\n",
    "$$\n",
    "X=\\Delta\\left(I_n - \\displaystyle\\frac{\\tilde{x}\\tilde{x}^T}{\\Vert\\tilde{x}\\Vert_2^2}\\right)+\\displaystyle\\frac{(b-A\\tilde{x})\\tilde{x}^T}{\\Vert\\tilde{x}\\Vert_2^2}\n",
    "$$\n",
    "donc\n",
    "$$\n",
    "\\Pi_{\\mathcal{C}_2}(\\Delta)=\\Delta\\left(I_n - \\displaystyle\\frac{\\tilde{x}\\tilde{x}^T}{\\Vert\\tilde{x}\\Vert_2^2}\\right)+\\displaystyle\\frac{(b-A\\tilde{x})\\tilde{x}^T}{\\Vert\\tilde{x}\\Vert_2^2}\n",
    "$$\n",
    "\n",
    "Remarque : $\\lambda^T(X\\tilde{x})=tr(\\lambda^T(X\\tilde{x}))$. Ce qui nous permet d'obtenir.\n",
    "\n",
    "$$ \\mathcal{L}(x,\\,\\lambda) = \\frac 1 2 \\left<X-\\Delta, X-\\Delta\\right>+\\left<X, \\lambda \\tilde{x}\\right>$$\n",
    "\n",
    "$$\\nabla_X \\mathcal{L}(x,\\,\\lambda)=X-\\Delta+\\lambda\\tilde{x}^T$$"
   ]
  },
  {
   "cell_type": "markdown",
   "metadata": {},
   "source": [
    "**Question 3 :** Proposer un sous-gradient de $f$ en $\\Delta$, $\\forall \\Delta \\in \\mathcal{C}$.\n",
    "\n",
    "\n",
    "\n",
    "**Qestion 4 :** Résoudre le problème $ (\\mathcal{P})$ par l'algorithme du sous-gradient."
   ]
  },
  {
   "cell_type": "code",
   "execution_count": 1,
   "metadata": {},
   "outputs": [],
   "source": [
    "using LinearAlgebra"
   ]
  },
  {
   "cell_type": "code",
   "execution_count": 2,
   "metadata": {},
   "outputs": [
    {
     "data": {
      "text/plain": [
       "100-element Array{Float64,1}:\n",
       "  -4.452449834753848\n",
       "  18.974513463599465\n",
       "  13.99628970976913\n",
       "  -2.2116520867573186\n",
       "   9.30141959561169\n",
       "  12.20145299618718\n",
       "  -0.6806388665879703\n",
       "  -5.6574844928796875\n",
       "   7.3287985336070225\n",
       "   0.9892347126469376\n",
       "   3.321625071053113\n",
       " -12.909823810767577\n",
       " -12.731902677739084\n",
       "   ⋮\n",
       "   5.569602165167632\n",
       "   6.949407727230475\n",
       "   8.52334286180428\n",
       "   3.585093789536587\n",
       "   0.02337904649955691\n",
       "   1.9260581040494453\n",
       "  -5.519347253400442\n",
       "  -5.696798814924229\n",
       "   2.7557234949715843\n",
       "   8.046392628840103\n",
       "   7.6713302201421065\n",
       "  11.02855742238813"
      ]
     },
     "execution_count": 2,
     "metadata": {},
     "output_type": "execute_result"
    }
   ],
   "source": [
    "n = 100;\n",
    "A = Symmetric(randn(n,n));\n",
    "x = randn(n);\n",
    "x_tilde = x + 1e-2*rand(n)\n",
    "b = A*x"
   ]
  },
  {
   "cell_type": "code",
   "execution_count": 3,
   "metadata": {},
   "outputs": [
    {
     "data": {
      "text/plain": [
       "subgradf (generic function with 1 method)"
      ]
     },
     "execution_count": 3,
     "metadata": {},
     "output_type": "execute_result"
    }
   ],
   "source": [
    "function pi1(Delta)\n",
    "    return (Delta+transpose(Delta))/2;\n",
    "end\n",
    "    \n",
    "function pi2(Delta, b, x_tilde)\n",
    "    tx_tilde = transpose(x_tilde);\n",
    "    norme = norm(x_tilde, 2);\n",
    "    return Delta-Delta*x_tilde*tx_tilde/norme^2+(b-A*x_tilde)*tx_tilde/norme^2;\n",
    "end\n",
    "\n",
    "function evalf(Delta, b, x_tilde)\n",
    "    d1 = norm(Delta-pi1(Delta)); # with p=2, for a matrix, computes Frobenius norm\n",
    "    d2 = norm(Delta-pi2(Delta,b,x_tilde));\n",
    "    return max(d1,d2);\n",
    "end\n",
    "\n",
    "# Return one subgradient of f at Delta\n",
    "function subgradf(Delta, b, x_tilde)\n",
    "    eval1 = Delta-pi1(Delta);\n",
    "    eval2 = Delta-pi2(Delta,b,x_tilde);\n",
    "    d1 = norm(eval1);\n",
    "    d2 = norm(eval2);\n",
    "    \n",
    "    if(max(d1,d2)==d1)\n",
    "        g = eval1/d1;\n",
    "    else\n",
    "        g = eval2/d2;\n",
    "    end\n",
    "       \n",
    "    return g;\n",
    "end"
   ]
  },
  {
   "cell_type": "code",
   "execution_count": 4,
   "metadata": {
    "scrolled": true
   },
   "outputs": [
    {
     "name": "stderr",
     "output_type": "stream",
     "text": [
      "┌ Info: For saving to png with the Plotly backend ORCA has to be installed.\n",
      "└ @ Plots /home/hoellinger/.julia/packages/Plots/4EfKl/src/backends.jl:373\n"
     ]
    }
   ],
   "source": [
    "#Pkg.add(\"Plots\")\n",
    "using Plots\n",
    "\n",
    "# Initialisation\n",
    "Delta = zeros(n,n);\n",
    "Delta_best = Delta;\n",
    "i = 0;\n",
    "fbest = 1000000;\n",
    "histo_subgradient_simple =[];\n",
    "\n",
    "lambda=1e-2;\n",
    "\n",
    "pas=4;\n",
    "itermax_subgradient_simple=50;\n",
    "\n",
    "Delta_k = Delta;\n",
    "while i < itermax_subgradient_simple\n",
    "    i = i + 1;\n",
    "    gk = subgradf(Delta_k, b, x_tilde);\n",
    "    #print(norm(gk,2),\"\\n\")\n",
    "    \n",
    "    if pas == 1\n",
    "        Delta_k -= 1e-2*gk;\n",
    "    elseif pas == 2\n",
    "        Delta_k -= 1/(100i) * gk;\n",
    "    elseif pas == 3\n",
    "        Delta_k -= 1/(norm(gk,2)*sqrt(i)) * gk;\n",
    "    elseif pas == 4\n",
    "        #print(evalf(Delta_k, b, x_tilde),\"\\n\")\n",
    "        Delta_k -= evalf(Delta_k, b, x_tilde)/norm(gk,2)^2 * gk;\n",
    "    end\n",
    "    \n",
    "    if evalf(Delta_k, b, x_tilde) < fbest\n",
    "        #print(\"hi!\\n\")\n",
    "        fbest = evalf(Delta_k, b, x_tilde);\n",
    "        Delta_best = Delta_k;\n",
    "    end\n",
    "    \n",
    "    append!(histo_subgradient_simple, fbest);\n",
    "end\n",
    "\n",
    "plotly();\n",
    "\n",
    "iter_subgradient_simple=1:itermax_subgradient_simple;"
   ]
  },
  {
   "cell_type": "code",
   "execution_count": 5,
   "metadata": {},
   "outputs": [
    {
     "data": {
      "text/html": [
       "    <script type=\"text/javascript\">\n",
       "        requirejs([\"https://cdn.plot.ly/plotly-1.54.2.min.js\"], function(p) {\n",
       "            window.Plotly = p\n",
       "        });\n",
       "    </script>\n"
      ]
     },
     "metadata": {},
     "output_type": "display_data"
    },
    {
     "data": {
      "application/vnd.plotly.v1+json": {
       "data": [
        {
         "colorbar": {
          "title": ""
         },
         "legendgroup": [
          "f"
         ],
         "line": {
          "color": "rgba(0, 154, 250, 1.000)",
          "dash": "solid",
          "shape": "linear",
          "width": 3
         },
         "mode": "lines",
         "name": [
          "f"
         ],
         "showlegend": true,
         "type": "scatter",
         "x": [
          1,
          2,
          3,
          4,
          5,
          6,
          7,
          8,
          9,
          10,
          11,
          12,
          13,
          14,
          15,
          16,
          17,
          18,
          19,
          20,
          21,
          22,
          23,
          24,
          25,
          26,
          27,
          28,
          29,
          30,
          31,
          32,
          33,
          34,
          35,
          36,
          37,
          38,
          39,
          40,
          41,
          42,
          43,
          44,
          45,
          46,
          47,
          48,
          49,
          50
         ],
         "xaxis": "x1",
         "y": [
          0.03951794359707564,
          0.0279434058960397,
          0.019758971798537816,
          0.013971702948019846,
          0.00987948589926891,
          0.006985851474009921,
          0.004939742949634454,
          0.0034929257370049593,
          0.002469871474817226,
          0.001746462868502486,
          0.0012349357374086174,
          0.0008732314342512394,
          0.000617467868704306,
          0.0004366157171256189,
          0.0003087339343521524,
          0.00021830785856280722,
          0.00015436696717607457,
          0.00010915392928141025,
          7.718348358804202e-05,
          5.457696464070428e-05,
          3.859174179402042e-05,
          2.7288482320351193e-05,
          1.9295870897009467e-05,
          1.3644241160176222e-05,
          9.64793544850519e-06,
          6.822120580088431e-06,
          4.823967724252814e-06,
          3.411060290040132e-06,
          2.411983862123415e-06,
          1.7055301450210526e-06,
          1.2059919310624425e-06,
          8.527650725097697e-07,
          6.029959655306681e-07,
          4.2638253625341497e-07,
          3.014979827642542e-07,
          2.1319126813017294e-07,
          1.5074899138451975e-07,
          1.0659563406523892e-07,
          7.537449569237035e-08,
          5.329781703158466e-08,
          3.7687247845358225e-08,
          2.6648908516076555e-08,
          1.884362392294169e-08,
          1.3324454257184566e-08,
          9.421811960826613e-09,
          6.662227131173391e-09,
          4.710905982373566e-09,
          3.3311135672178484e-09,
          2.3554529922385592e-09,
          1.6655567789041039e-09
         ],
         "yaxis": "y1",
         "zmax": null,
         "zmin": null
        }
       ],
       "layout": {
        "annotations": [
         {
          "font": {
           "color": "rgba(0, 0, 0, 1.000)",
           "family": "sans-serif",
           "size": 20
          },
          "rotation": 0,
          "showarrow": false,
          "text": "Convergence curve",
          "x": 0.5296296296296296,
          "xanchor": "center",
          "xref": "paper",
          "y": 1,
          "yanchor": "top",
          "yref": "paper"
         },
         {
          "font": {
           "color": "rgba(0, 0, 0, 1.000)",
           "family": "sans-serif",
           "size": 20
          },
          "rotation": 0,
          "showarrow": false,
          "text": "Sous-gradient simple",
          "x": 55,
          "xanchor": "center",
          "xref": "x",
          "y": 80,
          "yanchor": "middle",
          "yref": "y"
         }
        ],
        "height": 400,
        "legend": {
         "bgcolor": "rgba(255, 255, 255, 1.000)",
         "bordercolor": "rgba(0, 0, 0, 1.000)",
         "borderwidth": 1,
         "font": {
          "color": "rgba(0, 0, 0, 1.000)",
          "family": "sans-serif",
          "size": 11
         },
         "tracegroupgap": 0,
         "traceorder": "normal",
         "x": 1,
         "xanchor": "auto",
         "y": 1,
         "yanchor": "auto"
        },
        "margin": {
         "b": 20,
         "l": 0,
         "r": 0,
         "t": 20
        },
        "paper_bgcolor": "rgba(255, 255, 255, 1.000)",
        "plot_bgcolor": "rgba(255, 255, 255, 1.000)",
        "showlegend": true,
        "width": 600,
        "xaxis": {
         "anchor": "y1",
         "domain": [
          0.0658209390492855,
          0.9934383202099738
         ],
         "gridcolor": "rgba(0, 0, 0, 0.100)",
         "gridwidth": 0.5,
         "linecolor": "rgba(0, 0, 0, 1.000)",
         "mirror": false,
         "range": [
          -0.47,
          51.47
         ],
         "showgrid": true,
         "showline": true,
         "showticklabels": true,
         "tickangle": 0,
         "tickcolor": "rgb(0, 0, 0)",
         "tickfont": {
          "color": "rgba(0, 0, 0, 1.000)",
          "family": "sans-serif",
          "size": 11
         },
         "tickmode": "array",
         "ticks": "inside",
         "ticktext": [
          "0",
          "10",
          "20",
          "30",
          "40",
          "50"
         ],
         "tickvals": [
          0,
          10,
          20,
          30,
          40,
          50
         ],
         "title": "",
         "titlefont": {
          "color": "rgba(0, 0, 0, 1.000)",
          "family": "sans-serif",
          "size": 15
         },
         "type": "-",
         "visible": true,
         "zeroline": false,
         "zerolinecolor": "rgba(0, 0, 0, 1.000)"
        },
        "yaxis": {
         "anchor": "x1",
         "domain": [
          0.03762029746281716,
          0.9415463692038496
         ],
         "gridcolor": "rgba(0, 0, 0, 0.100)",
         "gridwidth": 0.5,
         "linecolor": "rgba(0, 0, 0, 1.000)",
         "mirror": false,
         "range": [
          -0.001185536592388787,
          0.040703481855021206
         ],
         "showgrid": true,
         "showline": true,
         "showticklabels": true,
         "tickangle": 0,
         "tickcolor": "rgb(0, 0, 0)",
         "tickfont": {
          "color": "rgba(0, 0, 0, 1.000)",
          "family": "sans-serif",
          "size": 11
         },
         "tickmode": "array",
         "ticks": "inside",
         "ticktext": [
          "0.00",
          "0.01",
          "0.02",
          "0.03",
          "0.04"
         ],
         "tickvals": [
          0,
          0.01,
          0.02,
          0.03,
          0.04
         ],
         "title": "",
         "titlefont": {
          "color": "rgba(0, 0, 0, 1.000)",
          "family": "sans-serif",
          "size": 15
         },
         "type": "-",
         "visible": true,
         "zeroline": false,
         "zerolinecolor": "rgba(0, 0, 0, 1.000)"
        }
       }
      },
      "text/html": [
       "<!DOCTYPE html>\n",
       "<html>\n",
       "    <head>\n",
       "        <title>Plots.jl</title>\n",
       "        <meta http-equiv=\"content-type\" content=\"text/html; charset=UTF-8\">\n",
       "        <script src=\"https://cdn.plot.ly/plotly-1.54.2.min.js\"></script>\n",
       "    </head>\n",
       "    <body>\n",
       "            <div id=\"c00b90e9-6e24-40a4-96c9-3e25cff4b5ca\" style=\"width:600px;height:400px;\"></div>\n",
       "    <script>\n",
       "    PLOT = document.getElementById('c00b90e9-6e24-40a4-96c9-3e25cff4b5ca');\n",
       "    Plotly.plot(PLOT, [\n",
       "    {\n",
       "        \"xaxis\": \"x1\",\n",
       "        \"colorbar\": {\n",
       "            \"title\": \"\"\n",
       "        },\n",
       "        \"yaxis\": \"y1\",\n",
       "        \"x\": [\n",
       "            1,\n",
       "            2,\n",
       "            3,\n",
       "            4,\n",
       "            5,\n",
       "            6,\n",
       "            7,\n",
       "            8,\n",
       "            9,\n",
       "            10,\n",
       "            11,\n",
       "            12,\n",
       "            13,\n",
       "            14,\n",
       "            15,\n",
       "            16,\n",
       "            17,\n",
       "            18,\n",
       "            19,\n",
       "            20,\n",
       "            21,\n",
       "            22,\n",
       "            23,\n",
       "            24,\n",
       "            25,\n",
       "            26,\n",
       "            27,\n",
       "            28,\n",
       "            29,\n",
       "            30,\n",
       "            31,\n",
       "            32,\n",
       "            33,\n",
       "            34,\n",
       "            35,\n",
       "            36,\n",
       "            37,\n",
       "            38,\n",
       "            39,\n",
       "            40,\n",
       "            41,\n",
       "            42,\n",
       "            43,\n",
       "            44,\n",
       "            45,\n",
       "            46,\n",
       "            47,\n",
       "            48,\n",
       "            49,\n",
       "            50\n",
       "        ],\n",
       "        \"showlegend\": true,\n",
       "        \"mode\": \"lines\",\n",
       "        \"name\": [\n",
       "            \"f\"\n",
       "        ],\n",
       "        \"zmin\": null,\n",
       "        \"legendgroup\": [\n",
       "            \"f\"\n",
       "        ],\n",
       "        \"zmax\": null,\n",
       "        \"line\": {\n",
       "            \"color\": \"rgba(0, 154, 250, 1.000)\",\n",
       "            \"shape\": \"linear\",\n",
       "            \"dash\": \"solid\",\n",
       "            \"width\": 3\n",
       "        },\n",
       "        \"y\": [\n",
       "            0.03951794359707564,\n",
       "            0.0279434058960397,\n",
       "            0.019758971798537816,\n",
       "            0.013971702948019846,\n",
       "            0.00987948589926891,\n",
       "            0.006985851474009921,\n",
       "            0.004939742949634454,\n",
       "            0.0034929257370049593,\n",
       "            0.002469871474817226,\n",
       "            0.001746462868502486,\n",
       "            0.0012349357374086174,\n",
       "            0.0008732314342512394,\n",
       "            0.000617467868704306,\n",
       "            0.0004366157171256189,\n",
       "            0.0003087339343521524,\n",
       "            0.00021830785856280722,\n",
       "            0.00015436696717607457,\n",
       "            0.00010915392928141025,\n",
       "            7.718348358804202e-5,\n",
       "            5.457696464070428e-5,\n",
       "            3.859174179402042e-5,\n",
       "            2.7288482320351193e-5,\n",
       "            1.9295870897009467e-5,\n",
       "            1.3644241160176222e-5,\n",
       "            9.64793544850519e-6,\n",
       "            6.822120580088431e-6,\n",
       "            4.823967724252814e-6,\n",
       "            3.411060290040132e-6,\n",
       "            2.411983862123415e-6,\n",
       "            1.7055301450210526e-6,\n",
       "            1.2059919310624425e-6,\n",
       "            8.527650725097697e-7,\n",
       "            6.029959655306681e-7,\n",
       "            4.2638253625341497e-7,\n",
       "            3.014979827642542e-7,\n",
       "            2.1319126813017294e-7,\n",
       "            1.5074899138451975e-7,\n",
       "            1.0659563406523892e-7,\n",
       "            7.537449569237035e-8,\n",
       "            5.329781703158466e-8,\n",
       "            3.7687247845358225e-8,\n",
       "            2.6648908516076555e-8,\n",
       "            1.884362392294169e-8,\n",
       "            1.3324454257184566e-8,\n",
       "            9.421811960826613e-9,\n",
       "            6.662227131173391e-9,\n",
       "            4.710905982373566e-9,\n",
       "            3.3311135672178484e-9,\n",
       "            2.3554529922385592e-9,\n",
       "            1.6655567789041039e-9\n",
       "        ],\n",
       "        \"type\": \"scatter\"\n",
       "    }\n",
       "]\n",
       ", {\n",
       "    \"showlegend\": true,\n",
       "    \"xaxis\": {\n",
       "        \"showticklabels\": true,\n",
       "        \"gridwidth\": 0.5,\n",
       "        \"tickvals\": [\n",
       "            0.0,\n",
       "            10.0,\n",
       "            20.0,\n",
       "            30.0,\n",
       "            40.0,\n",
       "            50.0\n",
       "        ],\n",
       "        \"visible\": true,\n",
       "        \"ticks\": \"inside\",\n",
       "        \"range\": [\n",
       "            -0.47,\n",
       "            51.47\n",
       "        ],\n",
       "        \"domain\": [\n",
       "            0.0658209390492855,\n",
       "            0.9934383202099738\n",
       "        ],\n",
       "        \"tickmode\": \"array\",\n",
       "        \"linecolor\": \"rgba(0, 0, 0, 1.000)\",\n",
       "        \"showgrid\": true,\n",
       "        \"title\": \"\",\n",
       "        \"mirror\": false,\n",
       "        \"tickangle\": 0,\n",
       "        \"showline\": true,\n",
       "        \"gridcolor\": \"rgba(0, 0, 0, 0.100)\",\n",
       "        \"titlefont\": {\n",
       "            \"color\": \"rgba(0, 0, 0, 1.000)\",\n",
       "            \"family\": \"sans-serif\",\n",
       "            \"size\": 15\n",
       "        },\n",
       "        \"tickcolor\": \"rgb(0, 0, 0)\",\n",
       "        \"ticktext\": [\n",
       "            \"0\",\n",
       "            \"10\",\n",
       "            \"20\",\n",
       "            \"30\",\n",
       "            \"40\",\n",
       "            \"50\"\n",
       "        ],\n",
       "        \"zeroline\": false,\n",
       "        \"type\": \"-\",\n",
       "        \"tickfont\": {\n",
       "            \"color\": \"rgba(0, 0, 0, 1.000)\",\n",
       "            \"family\": \"sans-serif\",\n",
       "            \"size\": 11\n",
       "        },\n",
       "        \"zerolinecolor\": \"rgba(0, 0, 0, 1.000)\",\n",
       "        \"anchor\": \"y1\"\n",
       "    },\n",
       "    \"paper_bgcolor\": \"rgba(255, 255, 255, 1.000)\",\n",
       "    \"annotations\": [\n",
       "        {\n",
       "            \"yanchor\": \"top\",\n",
       "            \"xanchor\": \"center\",\n",
       "            \"rotation\": -0.0,\n",
       "            \"y\": 1.0,\n",
       "            \"font\": {\n",
       "                \"color\": \"rgba(0, 0, 0, 1.000)\",\n",
       "                \"family\": \"sans-serif\",\n",
       "                \"size\": 20\n",
       "            },\n",
       "            \"yref\": \"paper\",\n",
       "            \"showarrow\": false,\n",
       "            \"text\": \"Convergence curve\",\n",
       "            \"xref\": \"paper\",\n",
       "            \"x\": 0.5296296296296296\n",
       "        },\n",
       "        {\n",
       "            \"yanchor\": \"middle\",\n",
       "            \"xanchor\": \"center\",\n",
       "            \"rotation\": -0.0,\n",
       "            \"y\": 80,\n",
       "            \"font\": {\n",
       "                \"color\": \"rgba(0, 0, 0, 1.000)\",\n",
       "                \"family\": \"sans-serif\",\n",
       "                \"size\": 20\n",
       "            },\n",
       "            \"yref\": \"y\",\n",
       "            \"showarrow\": false,\n",
       "            \"text\": \"Sous-gradient simple\",\n",
       "            \"xref\": \"x\",\n",
       "            \"x\": 55\n",
       "        }\n",
       "    ],\n",
       "    \"height\": 400,\n",
       "    \"margin\": {\n",
       "        \"l\": 0,\n",
       "        \"b\": 20,\n",
       "        \"r\": 0,\n",
       "        \"t\": 20\n",
       "    },\n",
       "    \"plot_bgcolor\": \"rgba(255, 255, 255, 1.000)\",\n",
       "    \"yaxis\": {\n",
       "        \"showticklabels\": true,\n",
       "        \"gridwidth\": 0.5,\n",
       "        \"tickvals\": [\n",
       "            0.0,\n",
       "            0.01,\n",
       "            0.02,\n",
       "            0.03,\n",
       "            0.04\n",
       "        ],\n",
       "        \"visible\": true,\n",
       "        \"ticks\": \"inside\",\n",
       "        \"range\": [\n",
       "            -0.001185536592388787,\n",
       "            0.040703481855021206\n",
       "        ],\n",
       "        \"domain\": [\n",
       "            0.03762029746281716,\n",
       "            0.9415463692038496\n",
       "        ],\n",
       "        \"tickmode\": \"array\",\n",
       "        \"linecolor\": \"rgba(0, 0, 0, 1.000)\",\n",
       "        \"showgrid\": true,\n",
       "        \"title\": \"\",\n",
       "        \"mirror\": false,\n",
       "        \"tickangle\": 0,\n",
       "        \"showline\": true,\n",
       "        \"gridcolor\": \"rgba(0, 0, 0, 0.100)\",\n",
       "        \"titlefont\": {\n",
       "            \"color\": \"rgba(0, 0, 0, 1.000)\",\n",
       "            \"family\": \"sans-serif\",\n",
       "            \"size\": 15\n",
       "        },\n",
       "        \"tickcolor\": \"rgb(0, 0, 0)\",\n",
       "        \"ticktext\": [\n",
       "            \"0.00\",\n",
       "            \"0.01\",\n",
       "            \"0.02\",\n",
       "            \"0.03\",\n",
       "            \"0.04\"\n",
       "        ],\n",
       "        \"zeroline\": false,\n",
       "        \"type\": \"-\",\n",
       "        \"tickfont\": {\n",
       "            \"color\": \"rgba(0, 0, 0, 1.000)\",\n",
       "            \"family\": \"sans-serif\",\n",
       "            \"size\": 11\n",
       "        },\n",
       "        \"zerolinecolor\": \"rgba(0, 0, 0, 1.000)\",\n",
       "        \"anchor\": \"x1\"\n",
       "    },\n",
       "    \"legend\": {\n",
       "        \"yanchor\": \"auto\",\n",
       "        \"xanchor\": \"auto\",\n",
       "        \"bordercolor\": \"rgba(0, 0, 0, 1.000)\",\n",
       "        \"bgcolor\": \"rgba(255, 255, 255, 1.000)\",\n",
       "        \"font\": {\n",
       "            \"color\": \"rgba(0, 0, 0, 1.000)\",\n",
       "            \"family\": \"sans-serif\",\n",
       "            \"size\": 11\n",
       "        },\n",
       "        \"tracegroupgap\": 0,\n",
       "        \"y\": 1.0,\n",
       "        \"borderwidth\": 1,\n",
       "        \"traceorder\": \"normal\",\n",
       "        \"x\": 1.0\n",
       "    },\n",
       "    \"width\": 600\n",
       "}\n",
       ");\n",
       "    </script>\n",
       "\n",
       "    </body>\n",
       "</html>\n"
      ]
     },
     "execution_count": 5,
     "metadata": {},
     "output_type": "execute_result"
    }
   ],
   "source": [
    "plot(iter_subgradient_simple,histo_subgradient_simple,title=\"Convergence curve\",label=[\"f\"],lw=3,ann=[(55,80,\"Sous-gradient simple\")])"
   ]
  },
  {
   "cell_type": "markdown",
   "metadata": {},
   "source": [
    "Vérification :"
   ]
  },
  {
   "cell_type": "code",
   "execution_count": 6,
   "metadata": {},
   "outputs": [
    {
     "data": {
      "text/plain": [
       "true"
      ]
     },
     "execution_count": 6,
     "metadata": {},
     "output_type": "execute_result"
    }
   ],
   "source": [
    "Delta_best == transpose(Delta_best)"
   ]
  },
  {
   "cell_type": "code",
   "execution_count": 7,
   "metadata": {},
   "outputs": [
    {
     "data": {
      "text/plain": [
       "true"
      ]
     },
     "execution_count": 7,
     "metadata": {},
     "output_type": "execute_result"
    }
   ],
   "source": [
    "isapprox(pi2(Delta_best, b, x_tilde), Delta_best; atol=1e-8)"
   ]
  },
  {
   "cell_type": "markdown",
   "metadata": {},
   "source": [
    "OK !"
   ]
  },
  {
   "cell_type": "markdown",
   "metadata": {},
   "source": [
    "## Autre application\n",
    "\n",
    "Objectif : complétion d'une matrice $A\\in\\mathcal{S}_n^+(\\mathbb{R})$ semi-définie positive.\n",
    "\n",
    "On dispose seulement de quelques entrées pour $(i,j)\\in\\Omega$ : $\\quad\\forall i,j\\,\\in\\Omega,\\quad A^i_j=\\overline{e}^iA\\vec{e}_j$.\n",
    "\n",
    "Cette fois on a donc : $\\mathcal{C}_1 = \\mathcal{S}_n^+(\\mathbb{R})$ et $\\mathcal{C}_2 = \\left\\{X \\in \\mathcal{M}_n(\\mathbb{R}) \\mbox{ t.q. } X^i_j\\overset{\\Delta}{=}\\overline{e}^iX\\vec{e}_j=A^i_j \\right\\}$."
   ]
  },
  {
   "cell_type": "markdown",
   "metadata": {},
   "source": [
    "**Question 1** : justifier que ces parties sont convexes non vides fermées."
   ]
  },
  {
   "cell_type": "markdown",
   "metadata": {},
   "source": [
    "**Question 2 :** On choisit de munir $\\mathcal{M}_n(\\mathbb{R})$ du produit scalaire $<X,Y>=tr(XY^T)$. On a alors $d(\\Delta,\\mathcal{C}_i)=\\Vert \\Delta - \\Pi_{\\mathcal{C}_i}(\\Delta)\\Vert_F$, avec $\\Vert \\Vert_F$ la norme de Frobenius, et $\\Pi_{\\mathcal{C}_i}(\\Delta)$ le projeté de $\\Delta$ sur $\\mathcal{C}_i$. Donner l'expression analytique des $\\Pi_{\\mathcal{C}_i}(\\Delta)$."
   ]
  },
  {
   "cell_type": "markdown",
   "metadata": {},
   "source": [
    "**Réponse**\n",
    "\n",
    "Soit $X\\in\\mathcal{M}_n(\\mathbb{R})$. $\\tilde{X}:=\\displaystyle\\frac{X+X^T}{2}\\in\\mathcal{S}_n(\\mathbb{R})$, on note $\\tilde{X}=P\\times\\textrm{diag}(\\{\\lambda_i\\})\\times P^T$ alors \n",
    "$$\\Pi_{\\mathcal{C}_1}(X)=\\Pi_{\\mathcal{S}_n^+(\\mathbb{R})}(X)=P\\times\\textrm{diag}(\\{\\max\\{0, \\lambda_i\\}\\})\\times P^T$$\n",
    "\n",
    "On obtient la projection sur $\\mathcal{C}_1$ avec KKT :\n",
    "$$\\begin{align}\n",
    "\\Pi_{\\mathcal{C}_1}(X) = X-\\sum_{(i,j)\\in\\Omega}\\left(\\overline{e}^i(X-1)\\vec{e}_j\\right)\\vec{e}_i\\overline{e}^j\n",
    "\\end{align}$$"
   ]
  },
  {
   "cell_type": "markdown",
   "metadata": {},
   "source": [
    "### Définition du problème\n",
    "\n",
    "On se donne une matrice B symétrique semi-définie positive, dont on extrait certaines valeurs."
   ]
  },
  {
   "cell_type": "code",
   "execution_count": 8,
   "metadata": {},
   "outputs": [
    {
     "data": {
      "text/plain": [
       "100×100 Array{Float64,2}:\n",
       " -0.788052   -0.184059   -0.234741  …  -0.306303   -0.616941   -1.75875\n",
       " -0.184059   -0.60766    -0.471585      0.41057     1.4323      0.150837\n",
       " -0.234741   -0.471585   -1.39094      -0.813912   -0.601935   -0.975607\n",
       " -0.581199   -0.905466   -1.74793       0.53645    -0.948484   -0.330959\n",
       " -0.626911   -1.0003      0.474329     -0.457739    0.460644   -0.34791\n",
       "  0.137619   -1.53562     0.85053   …  -0.343632   -0.901751   -0.837786\n",
       " -0.688471    0.86537    -0.920525     -1.53142     0.740828    0.412441\n",
       "  0.167414   -0.055306   -0.357986      0.849293   -0.695142   -0.119414\n",
       " -0.753199   -0.554335    1.21483      -0.890449    0.190182    0.828788\n",
       "  1.26319     0.630042   -0.870081      0.0174326  -0.236507    0.210054\n",
       "  0.208895    0.285814   -0.975251  …   1.05085     0.0258478   0.372676\n",
       "  0.348308    0.0964197  -0.103534      0.285342   -0.286592    0.428697\n",
       " -0.479123   -1.51058    -0.251905      0.880848    0.61854     0.293244\n",
       "  ⋮                                 ⋱                          \n",
       "  0.0383592  -0.0439028  -0.333174     -2.09837    -0.126309   -1.12294\n",
       "  1.10193    -0.0897893   1.03336      -1.45704    -0.0767754   1.61688\n",
       "  0.436584    1.04156    -1.0413    …   0.39721    -1.15242     0.604959\n",
       " -0.614834   -1.56254    -0.450728      0.300565    0.126798   -0.530394\n",
       "  0.4146     -0.237394   -0.651701     -1.19666     0.0697824   0.22417\n",
       " -0.06555    -0.734817    0.516773      0.333834    0.582807    0.169267\n",
       "  0.192071   -1.28721     0.318047     -0.733607    1.04395     2.76577\n",
       "  0.277463    0.667176    0.197147  …   1.33158    -0.192861   -0.764972\n",
       " -0.364494    0.434859    0.687227      0.590185   -0.184432   -0.258556\n",
       " -0.306303    0.41057    -0.813912     -0.910466    0.305144    1.52282\n",
       " -0.616941    1.4323     -0.601935      0.305144    2.50404     0.590105\n",
       " -1.75875     0.150837   -0.975607      1.52282     0.590105    0.0389084"
      ]
     },
     "execution_count": 8,
     "metadata": {},
     "output_type": "execute_result"
    }
   ],
   "source": [
    "n = 100;\n",
    "B = randn(n,n);\n",
    "B = (B+transpose(B))/2"
   ]
  },
  {
   "cell_type": "code",
   "execution_count": 9,
   "metadata": {},
   "outputs": [
    {
     "data": {
      "text/plain": [
       "10×2 Array{Int64,2}:\n",
       " 25  58\n",
       " 63  51\n",
       " 20  34\n",
       " 82   7\n",
       " 83  35\n",
       " 64  79\n",
       "  2  80\n",
       " 38  18\n",
       " 46  34\n",
       " 98  47"
      ]
     },
     "execution_count": 9,
     "metadata": {},
     "output_type": "execute_result"
    }
   ],
   "source": [
    "rand(1:100,10,2)"
   ]
  },
  {
   "cell_type": "code",
   "execution_count": 10,
   "metadata": {},
   "outputs": [],
   "source": [
    "using StatsBase"
   ]
  },
  {
   "cell_type": "code",
   "execution_count": 11,
   "metadata": {},
   "outputs": [
    {
     "data": {
      "text/plain": [
       "5×2 Array{Int64,2}:\n",
       " 5   1\n",
       " 3   2\n",
       " 3  10\n",
       " 8   9\n",
       " 8   6"
      ]
     },
     "execution_count": 11,
     "metadata": {},
     "output_type": "execute_result"
    }
   ],
   "source": [
    "hcat(sample(1:10,5), sample(1:10,5))"
   ]
  },
  {
   "cell_type": "code",
   "execution_count": 12,
   "metadata": {},
   "outputs": [
    {
     "data": {
      "text/plain": [
       "30×2 Array{Int64,2}:\n",
       " 11  43\n",
       "  2  85\n",
       " 45  19\n",
       " 67  44\n",
       "  9  13\n",
       " 74  87\n",
       " 68  21\n",
       " 72  73\n",
       "  5  23\n",
       " 65  21\n",
       " 80   1\n",
       " 11  71\n",
       " 50  57\n",
       "  ⋮  \n",
       "  6  27\n",
       " 98  83\n",
       " 51  50\n",
       " 95  85\n",
       " 57  71\n",
       " 49  74\n",
       " 11  26\n",
       " 35  43\n",
       " 32  46\n",
       "  7  86\n",
       " 18  78\n",
       " 52  62"
      ]
     },
     "execution_count": 12,
     "metadata": {},
     "output_type": "execute_result"
    }
   ],
   "source": [
    "n = 100;\n",
    "A = Symmetric(randn(n,n));\n",
    "#import Pkg;\n",
    "#Pkg.add(\"Random\")\n",
    "nb_known_entries = 30\n",
    "known_indices = hcat(sample(1:n,nb_known_entries), sample(1:n,nb_known_entries))"
   ]
  },
  {
   "cell_type": "code",
   "execution_count": 13,
   "metadata": {},
   "outputs": [
    {
     "ename": "LoadError",
     "evalue": "syntax: incomplete: \"function\" at In[13]:5 requires end",
     "output_type": "error",
     "traceback": [
      "syntax: incomplete: \"function\" at In[13]:5 requires end",
      "",
      "Stacktrace:",
      " [1] top-level scope at In[13]:5",
      " [2] include_string(::Function, ::Module, ::String, ::String) at ./loading.jl:1091"
     ]
    }
   ],
   "source": [
    "function h(X,A,known_indices)\n",
    "    return sum(X[known_indices]-A[known_indices])\n",
    "end\n",
    "\n",
    "function Pi1(X)\n",
    "    Sym = pi1(X)\n",
    "    eigen = eigen(Sym)\n",
    "    P = eigen.vectors\n",
    "    Diag = Diagonal(eigen.values)"
   ]
  },
  {
   "cell_type": "code",
   "execution_count": null,
   "metadata": {},
   "outputs": [],
   "source": []
  },
  {
   "cell_type": "code",
   "execution_count": null,
   "metadata": {},
   "outputs": [],
   "source": []
  },
  {
   "cell_type": "code",
   "execution_count": null,
   "metadata": {
    "slideshow": {
     "slide_type": "slide"
    }
   },
   "outputs": [],
   "source": []
  },
  {
   "cell_type": "code",
   "execution_count": null,
   "metadata": {},
   "outputs": [],
   "source": []
  }
 ],
 "metadata": {
  "anaconda-cloud": {},
  "kernelspec": {
   "display_name": "Julia 1.5.1",
   "language": "julia",
   "name": "julia-1.5"
  },
  "language_info": {
   "file_extension": ".jl",
   "mimetype": "application/julia",
   "name": "julia",
   "version": "1.5.1"
  }
 },
 "nbformat": 4,
 "nbformat_minor": 1
}
